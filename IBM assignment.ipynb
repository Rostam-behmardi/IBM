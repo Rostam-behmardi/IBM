{
 "cells": [
  {
   "cell_type": "markdown",
   "id": "99bbb887",
   "metadata": {},
   "source": [
    "# IBM assignment\n"
   ]
  },
  {
   "cell_type": "markdown",
   "id": "88d1eb86",
   "metadata": {},
   "source": [
    "__Rostam Behmardi__\n",
    "<br>\n",
    "Data scientist\n",
    "<br>\n",
    "_I am interested in data scientist and i would like to share a brief indroduction about useful tools in the data science field_"
   ]
  },
  {
   "cell_type": "markdown",
   "id": "2a841e87",
   "metadata": {},
   "source": [
    "__Top Data science languages:__\n",
    "<br>\n",
    "1. Python\n",
    "2. SQL\n",
    "3. R\n",
    "4. Julia\n",
    "5. JavaScript\n",
    "6. Scala\n",
    "7. Java\n",
    "8. Go\n",
    "9. MATLAB\n",
    "10. C/C++\n",
    "11. Statistical Analytical System"
   ]
  },
  {
   "cell_type": "markdown",
   "id": "4307379d",
   "metadata": {},
   "source": [
    "__Top Data science liberaries:__\n",
    "1. TensorFlow\n",
    "2. SciPy\n",
    "3. NumPy\n",
    "4. Pandas\n",
    "5. Matplotlib\n",
    "6. Keras\n",
    "7. Scikit-learn\n",
    "8. PyTorch"
   ]
  },
  {
   "cell_type": "markdown",
   "id": "7743833f",
   "metadata": {},
   "source": [
    "\n",
    "|Cloud-Based tools|Multipurpose Data science Tools|Programming Language-driven Tools|Visualization Tools|\n",
    "| :-: | :-: | :-: | :-: |\n",
    "|Google Analytics|Apache Spark|Python|Tableau|\n",
    "|BigML|SAS|Julia|Power BI|"
   ]
  },
  {
   "cell_type": "markdown",
   "id": "1c4f0d2f",
   "metadata": {},
   "source": [
    "This is summation of multiple two numbers and sum up them: 1 * 2 + 2 * 3"
   ]
  },
  {
   "cell_type": "code",
   "execution_count": 2,
   "id": "4357b89e",
   "metadata": {},
   "outputs": [
    {
     "data": {
      "text/plain": [
       "8"
      ]
     },
     "execution_count": 2,
     "metadata": {},
     "output_type": "execute_result"
    }
   ],
   "source": [
    "1*2 + 2*3"
   ]
  },
  {
   "cell_type": "code",
   "execution_count": 3,
   "id": "76997081",
   "metadata": {},
   "outputs": [],
   "source": [
    "def min_hour(t): return t/60"
   ]
  },
  {
   "cell_type": "markdown",
   "id": "34d2dbfe",
   "metadata": {},
   "source": [
    "1. Exercise 2 - Create a markdown cell with the title of the notebook. (1 pt)\n",
    "\n",
    "2. Exercise 3 - Create a markdown cell for an introduction. (1 pt)\n",
    "\n",
    "3. Exercise 4 - Create a markdown cell to list data science languages. (3 pts)\n",
    "\n",
    "4. Exercise 5 - Create a markdown cell to list data science libraries. (3 pts)\n",
    "\n",
    "5. Exercise 6 - Create a markdown cell with a table of Data Science tools. (3 pts)\n",
    "\n",
    "6. Exercise 7 - Create a markdown cell introducing arithmetic expression examples. (1 pt)\n",
    "\n",
    "7. Exercise 8 - Create a code cell to multiply and add numbers.(2 pts)\n",
    "\n",
    "8. Exercise 9 - Create a code cell to convert minutes to hours. (2 pts)\n",
    "\n",
    "9. Exercise 10 -Insert a markdown cell to list Objectives. (3 pts)\n",
    "\n",
    "10. Exercise 11 - Create a markdown cell to indicate the Author’s name. (2 pts)\n",
    "\n",
    "11. Exercise 12 - Share your notebook through GitHub (3 pts)\n",
    "\n",
    "12. Exercise 13 - Take a screenshot of the first page of the notebook. (1 pt)\n",
    "\n"
   ]
  },
  {
   "cell_type": "markdown",
   "id": "0896cb9e",
   "metadata": {},
   "source": [
    "__Rostam__"
   ]
  },
  {
   "cell_type": "markdown",
   "id": "62bec346",
   "metadata": {},
   "source": [
    "[github repo](https://github.com/Rostam-behmardi/IBM/blob/master/IBM%20assignment.ipynb)"
   ]
  },
  {
   "cell_type": "code",
   "execution_count": null,
   "id": "0bff1e74",
   "metadata": {},
   "outputs": [],
   "source": []
  }
 ],
 "metadata": {
  "kernelspec": {
   "display_name": "Python 3 (ipykernel)",
   "language": "python",
   "name": "python3"
  },
  "language_info": {
   "codemirror_mode": {
    "name": "ipython",
    "version": 3
   },
   "file_extension": ".py",
   "mimetype": "text/x-python",
   "name": "python",
   "nbconvert_exporter": "python",
   "pygments_lexer": "ipython3",
   "version": "3.9.12"
  }
 },
 "nbformat": 4,
 "nbformat_minor": 5
}
