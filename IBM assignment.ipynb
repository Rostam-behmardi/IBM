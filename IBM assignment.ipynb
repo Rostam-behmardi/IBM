{
 "cells": [
  {
   "cell_type": "markdown",
   "id": "99bbb887",
   "metadata": {},
   "source": [
    "# IBM assignment\n"
   ]
  },
  {
   "cell_type": "markdown",
   "id": "88d1eb86",
   "metadata": {},
   "source": [
    "In this notebook all the required tools for data science is summerized"
   ]
  },
  {
   "cell_type": "markdown",
   "id": "2a841e87",
   "metadata": {},
   "source": [
    "__Top Data science languages:__\n",
    "<br>\n",
    "1. Python\n",
    "2. SQL\n",
    "3. R\n",
    "4. Julia\n",
    "5. JavaScript\n",
    "6. Scala\n",
    "7. Java\n",
    "8. Go\n",
    "9. MATLAB\n",
    "10. C/C++\n",
    "11. Statistical Analytical System"
   ]
  },
  {
   "cell_type": "markdown",
   "id": "4307379d",
   "metadata": {},
   "source": [
    "__Top Data science liberaries:__\n",
    "1. TensorFlow\n",
    "2. SciPy\n",
    "3. NumPy\n",
    "4. Pandas\n",
    "5. Matplotlib\n",
    "6. Keras\n",
    "7. Scikit-learn\n",
    "8. PyTorch"
   ]
  },
  {
   "cell_type": "markdown",
   "id": "7743833f",
   "metadata": {},
   "source": [
    "\n",
    "|Data science tools|\n",
    "| --- |\n",
    "|Anaconda|\n",
    "|Rstudio|\n",
    "|Jupyter notebook|\n",
    "|Spyder|"
   ]
  },
  {
   "cell_type": "markdown",
   "id": "1c4f0d2f",
   "metadata": {},
   "source": [
    "### Evaluating arithmetic expression in python:"
   ]
  },
  {
   "cell_type": "code",
   "execution_count": 3,
   "id": "4357b89e",
   "metadata": {},
   "outputs": [
    {
     "data": {
      "text/plain": [
       "17"
      ]
     },
     "execution_count": 3,
     "metadata": {},
     "output_type": "execute_result"
    }
   ],
   "source": [
    "# add and multiply of two integers\n",
    "2*6 + 5"
   ]
  },
  {
   "cell_type": "code",
   "execution_count": 5,
   "id": "76997081",
   "metadata": {},
   "outputs": [
    {
     "data": {
      "text/plain": [
       "3.3333333333333335"
      ]
     },
     "execution_count": 5,
     "metadata": {},
     "output_type": "execute_result"
    }
   ],
   "source": [
    "def min_hour(t): return t/60\n",
    "min_hour(200)"
   ]
  },
  {
   "cell_type": "markdown",
   "id": "34d2dbfe",
   "metadata": {},
   "source": [
    "__Objectives:__\n",
    "\n",
    "- Add comments to the code cell\n",
    "- create markdown cell\n",
    "- format contents of markdowe"
   ]
  },
  {
   "cell_type": "markdown",
   "id": "0896cb9e",
   "metadata": {},
   "source": [
    "__Authonrs__\n",
    "<br>\n",
    "Rotam"
   ]
  },
  {
   "cell_type": "markdown",
   "id": "62bec346",
   "metadata": {},
   "source": [
    "[github repo](https://github.com/Rostam-behmardi/IBM/blob/master/IBM%20assignment.ipynb)"
   ]
  },
  {
   "cell_type": "code",
   "execution_count": null,
   "id": "0bff1e74",
   "metadata": {},
   "outputs": [],
   "source": []
  }
 ],
 "metadata": {
  "kernelspec": {
   "display_name": "Python 3 (ipykernel)",
   "language": "python",
   "name": "python3"
  },
  "language_info": {
   "codemirror_mode": {
    "name": "ipython",
    "version": 3
   },
   "file_extension": ".py",
   "mimetype": "text/x-python",
   "name": "python",
   "nbconvert_exporter": "python",
   "pygments_lexer": "ipython3",
   "version": "3.9.12"
  }
 },
 "nbformat": 4,
 "nbformat_minor": 5
}
